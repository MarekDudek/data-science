{
 "cells": [
  {
   "cell_type": "code",
   "execution_count": 14,
   "outputs": [],
   "source": [
    "import matplotlib.pyplot as plt\n",
    "import numpy as np\n",
    "import pandas as pd\n",
    "from sklearn import linear_model, metrics"
   ],
   "metadata": {
    "collapsed": false,
    "pycharm": {
     "name": "#%%\n",
     "is_executing": false
    }
   }
  },
  {
   "cell_type": "code",
   "execution_count": 36,
   "outputs": [],
   "source": [
    "x1 = np.array([10.0, 8.0, 13.0, 9.0, 11.0, 14.0, 6.0, 4.0, 12.0, 7.0, 5.0])\n",
    "y1 = np.array([8.04, 6.95, 7.58, 8.81, 8.33, 9.96, 7.24, 4.26, 10.84, 4.82, 5.68])"
   ],
   "metadata": {
    "collapsed": false,
    "pycharm": {
     "name": "#%%\n",
     "is_executing": false
    }
   }
  },
  {
   "cell_type": "code",
   "execution_count": 16,
   "outputs": [],
   "source": [
    "x2 = np.array([10.0, 8.0, 13.0, 9.0, 11.0, 14.0, 6.0, 4.0, 12.0, 7.0, 5.0])\n",
    "y2 = np.array([9.14, 8.14, 8.74, 8.77, 9.26, 8.10, 6.13, 3.10, 9.13, 7.26, 4.74])"
   ],
   "metadata": {
    "collapsed": false,
    "pycharm": {
     "name": "#%%\n",
     "is_executing": false
    }
   }
  },
  {
   "cell_type": "code",
   "execution_count": 17,
   "outputs": [],
   "source": [
    "x3 = np.array([10.0, 8.0, 13.0, 9.0, 11.0, 14.0, 6.0, 4.0, 12.0, 7.0, 5.0])\n",
    "y3 = np.array([7.46, 6.77, 12.74, 7.11, 7.81, 8.84, 6.08, 5.39, 8.15, 6.42, 5.73])"
   ],
   "metadata": {
    "collapsed": false,
    "pycharm": {
     "name": "#%%\n",
     "is_executing": false
    }
   }
  },
  {
   "cell_type": "code",
   "execution_count": 18,
   "outputs": [],
   "source": [
    "x4 = np.array([8.0, 8.0, 8.0, 8.0, 8.0, 8.0, 8.0, 19.0, 8.0, 8.0, 8.0])\n",
    "y4 = np.array([6.58, 5.76, 7.71, 8.84, 8.47, 7.04, 5.25, 12.50, 5.56, 7.91, 6.89])"
   ],
   "metadata": {
    "collapsed": false,
    "pycharm": {
     "name": "#%%\n",
     "is_executing": false
    }
   }
  },
  {
   "cell_type": "code",
   "execution_count": 19,
   "outputs": [],
   "source": [
    "p1 = pd.DataFrame({'x': x1, 'y': y1})\n",
    "p2 = pd.DataFrame({'x': x2, 'y': y2})\n",
    "p3 = pd.DataFrame({'x': x3, 'y': y3})\n",
    "p4 = pd.DataFrame({'x': x4, 'y': y4})"
   ],
   "metadata": {
    "collapsed": false,
    "pycharm": {
     "name": "#%%\n",
     "is_executing": false
    }
   }
  },
  {
   "cell_type": "code",
   "execution_count": 20,
   "outputs": [],
   "source": [
    "p1.to_csv('data/anscombe-1.csv')\n",
    "p2.to_csv('data/anscombe-2.csv')\n",
    "p3.to_csv('data/anscombe-3.csv')\n",
    "p4.to_csv('data/anscombe-4.csv')"
   ],
   "metadata": {
    "collapsed": false,
    "pycharm": {
     "name": "#%%\n",
     "is_executing": false
    }
   }
  },
  {
   "cell_type": "code",
   "execution_count": 21,
   "outputs": [
    {
     "data": {
      "text/plain": "<Figure size 432x288 with 1 Axes>",
      "image/png": "[encoded data removed]"
     },
     "metadata": {
      "needs_background": "light"
     },
     "output_type": "display_data"
    }
   ],
   "source": [
    "plt.scatter(x1, y2)\n",
    "plt.xlim((2, 20))\n",
    "plt.ylim((2, 16))\n",
    "plt.title('Anscombe\\'s quartet I')\n",
    "plt.xlabel('x')\n",
    "plt.ylabel('y')\n",
    "plt.show()"
   ],
   "metadata": {
    "collapsed": false,
    "pycharm": {
     "name": "#%%\n",
     "is_executing": false
    }
   }
  },
  {
   "cell_type": "code",
   "execution_count": 76,
   "outputs": [
    {
     "data": {
      "text/plain": "<Figure size 432x288 with 0 Axes>"
     },
     "metadata": {},
     "output_type": "display_data"
    },
    {
     "data": {
      "text/plain": "<Figure size 432x288 with 4 Axes>",
      "image/png": "[encoded data removed]"
     },
     "metadata": {
      "needs_background": "light"
     },
     "output_type": "display_data"
    }
   ],
   "source": [
    "reg = linear_model.LinearRegression()\n",
    "fig = plt.figure()\n",
    "fig, ax = plt.subplots(2, 2)\n",
    "[[tl, tr], [bl, br]] = ax\n",
    "for i, p in enumerate([tl, tr, bl, br]) :\n",
    "    p.set_xticks(np.arange(2, 20, 2))\n",
    "    p.set_yticks(np.arange(2, 16, 2))\n",
    "    p.set_xlabel('x')\n",
    "    p.set_ylabel('y')\n",
    "\n",
    "tl.scatter(x1, y1)\n",
    "reg.fit(x1[:, np.newaxis], y1)\n",
    "y1_p = reg.predict(x1[:, np.newaxis])\n",
    "tl.plot(x1, y1_p, color='red')\n",
    "\n",
    "tr.scatter(x2, y2)\n",
    "reg.fit(x2[:, np.newaxis], y2)\n",
    "y2_p = reg.predict(x2[:, np.newaxis])\n",
    "tr.plot(x2, y2_p, color='red')\n",
    "\n",
    "bl.scatter(x3, y3)\n",
    "reg.fit(x3[:, np.newaxis], y3)\n",
    "y3_p = reg.predict(x3[:, np.newaxis])\n",
    "bl.plot(x3, y3_p, color='red')\n",
    "\n",
    "br.scatter(x4, y4)\n",
    "reg.fit(x4[:, np.newaxis], y4)\n",
    "y4_p = reg.predict(x4[:, np.newaxis])\n",
    "br.plot(x4, y4_p, color='red')\n",
    "\n",
    "plt.suptitle('Anscombe\\'s quartet')\n",
    "plt.setp(ax, xlim=[2, 20], ylim=[2, 16])\n",
    "plt.show()"
   ],
   "metadata": {
    "collapsed": false,
    "pycharm": {
     "name": "#%%\n",
     "is_executing": false
    }
   }
  },
  {
   "cell_type": "code",
   "execution_count": 64,
   "outputs": [
    {
     "name": "stdout",
     "text": [
      "mean\n",
      "x    9.000000\n",
      "y    7.500909\n",
      "dtype: float64\n",
      "x    9.000000\n",
      "y    7.500909\n",
      "dtype: float64\n",
      "x    9.0\n",
      "y    7.5\n",
      "dtype: float64\n",
      "x    9.000000\n",
      "y    7.500909\n",
      "dtype: float64\n",
      "variance\n",
      "x    11.000000\n",
      "y     4.127269\n",
      "dtype: float64\n",
      "x    11.000000\n",
      "y     4.127629\n",
      "dtype: float64\n",
      "x    11.00000\n",
      "y     4.12262\n",
      "dtype: float64\n",
      "x    11.000000\n",
      "y     4.123249\n",
      "dtype: float64\n",
      "correlation\n",
      "          x         y\n",
      "x  1.000000  0.816421\n",
      "y  0.816421  1.000000\n",
      "          x         y\n",
      "x  1.000000  0.816237\n",
      "y  0.816237  1.000000\n",
      "          x         y\n",
      "x  1.000000  0.816287\n",
      "y  0.816287  1.000000\n",
      "          x         y\n",
      "x  1.000000  0.816521\n",
      "y  0.816521  1.000000\n"
     ],
     "output_type": "stream"
    },
    {
     "data": {
      "text/plain": "<Figure size 432x288 with 1 Axes>",
      "image/png": "[encoded data removed]"
     },
     "metadata": {
      "needs_background": "light"
     },
     "output_type": "display_data"
    }
   ],
   "source": [
    "ax = p1.plot.scatter(x='x', y='y', color='r')\n",
    "p2.plot.scatter(x='x', y='y', color='b', ax=ax)\n",
    "p3.plot.scatter(x='x', y='y', color='g', ax=ax)\n",
    "p4.plot.scatter(x='x', y='y', color='y', ax=ax)\n",
    "ps = [p1, p2, p3, p4]\n",
    "print('mean')\n",
    "for mean in [p.mean() for p in ps]:\n",
    "    print(mean)\n",
    "print('variance')\n",
    "for var in [p.var() for p in ps]:\n",
    "    print(var)\n",
    "print('correlation')\n",
    "for corr in [p.corr() for p in ps]:\n",
    "    print(corr)"
   ],
   "metadata": {
    "collapsed": false,
    "pycharm": {
     "name": "#%%\n",
     "is_executing": false
    }
   }
  },
  {
   "cell_type": "code",
   "execution_count": 48,
   "outputs": [
    {
     "name": "stdout",
     "text": [
      "[0.5 0.5]\n",
      "1.1102230246251565e-16\n"
     ],
     "output_type": "stream"
    }
   ],
   "source": [
    "reg = linear_model.LinearRegression()\n",
    "reg.fit([[0, 0], [1, 1], [2, 2]], [0, 1, 2])\n",
    "print(reg.coef_)\n",
    "print(reg.intercept_)"
   ],
   "metadata": {
    "collapsed": false,
    "pycharm": {
     "name": "#%%\n",
     "is_executing": false
    }
   }
  },
  {
   "cell_type": "code",
   "execution_count": 66,
   "outputs": [
    {
     "name": "stdout",
     "text": [
      "coefficient: 0.5000909090909093, intercept: 3.0000909090909094, r2: 0.6665424595087748\n",
      "coefficient: 0.5000000000000001, intercept: 3.000909090909089, r2: 0.6662420337274844\n",
      "coefficient: 0.4997272727272728, intercept: 3.002454545454545, r2: 0.6663240410665592\n",
      "coefficient: 0.49990909090909097, intercept: 3.0017272727272726, r2: 0.6667072568984653\n"
     ],
     "output_type": "stream"
    }
   ],
   "source": [
    "reg = linear_model.LinearRegression()\n",
    "for x, y in [(x1, y1), (x2, y2), (x3, y3), (x4, y4)] :\n",
    "    reg.fit(x[:, np.newaxis], y)\n",
    "    y_pred = reg.predict(x[:, np.newaxis])\n",
    "    r2 = metrics.r2_score(y, y_pred)\n",
    "    print(f'coefficient: {reg.coef_[0]}, intercept: {reg.intercept_}, r2: {r2}')"
   ],
   "metadata": {
    "collapsed": false,
    "pycharm": {
     "name": "#%%\n",
     "is_executing": false
    }
   }
  }
 ],
 "metadata": {
  "kernelspec": {
   "display_name": "Python 3",
   "language": "python",
   "name": "python3"
  },
  "language_info": {
   "codemirror_mode": {
    "name": "ipython",
    "version": 2
   },
   "file_extension": ".py",
   "mimetype": "text/x-python",
   "name": "python",
   "nbconvert_exporter": "python",
   "pygments_lexer": "ipython2",
   "version": "2.7.6"
  },
  "pycharm": {
   "stem_cell": {
    "cell_type": "raw",
    "source": [],
    "metadata": {
     "collapsed": false
    }
   }
  }
 },
 "nbformat": 4,
 "nbformat_minor": 0
}