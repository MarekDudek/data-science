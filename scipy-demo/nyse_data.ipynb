{
 "cells": [
  {
   "cell_type": "markdown",
   "metadata": {
    "pycharm": {
     "name": "#%% md\n"
    }
   },
   "source": [
    "Reading NYSE data"
   ]
  },
  {
   "cell_type": "code",
   "execution_count": 2,
   "metadata": {
    "pycharm": {
     "is_executing": false,
     "name": "#%%\n"
    }
   },
   "outputs": [
    {
     "name": "stdout",
     "output_type": "stream",
     "text": [
      "(10510034, 7)\n"
     ]
    }
   ],
   "source": [
    "from nyse_daily.reading import *\n",
    "\n",
    "pattern = '/home/marek/Development/trading/nyse-daily-data/src/main/resources/nyse_daily/*'\n",
    "\n",
    "df = read_zips_with_csv(pattern)\n",
    "df.describe()\n",
    "print(df.shape)\n",
    "\n",
    "df.to_hdf('/home/marek/Development/data-science/scipy-demo/data/nyse_daily.h5', key='nyse_daily', mode='w')"
   ]
  },
  {
   "cell_type": "code",
   "execution_count": 4,
   "metadata": {
    "pycharm": {
     "is_executing": false,
     "name": "#%%\n"
    }
   },
   "outputs": [
    {
     "data": {
      "text/html": [
       "<div>\n",
       "<style scoped>\n",
       "    .dataframe tbody tr th:only-of-type {\n",
       "        vertical-align: middle;\n",
       "    }\n",
       "\n",
       "    .dataframe tbody tr th {\n",
       "        vertical-align: top;\n",
       "    }\n",
       "\n",
       "    .dataframe thead th {\n",
       "        text-align: right;\n",
       "    }\n",
       "</style>\n",
       "<table border=\"1\" class=\"dataframe\">\n",
       "  <thead>\n",
       "    <tr style=\"text-align: right;\">\n",
       "      <th></th>\n",
       "      <th>Open</th>\n",
       "      <th>High</th>\n",
       "      <th>Low</th>\n",
       "      <th>Close</th>\n",
       "      <th>Volume</th>\n",
       "    </tr>\n",
       "  </thead>\n",
       "  <tbody>\n",
       "    <tr>\n",
       "      <th>count</th>\n",
       "      <td>1.051003e+07</td>\n",
       "      <td>1.051003e+07</td>\n",
       "      <td>1.051003e+07</td>\n",
       "      <td>1.051003e+07</td>\n",
       "      <td>1.051003e+07</td>\n",
       "    </tr>\n",
       "    <tr>\n",
       "      <th>mean</th>\n",
       "      <td>1.089335e+02</td>\n",
       "      <td>1.097427e+02</td>\n",
       "      <td>1.080638e+02</td>\n",
       "      <td>1.089325e+02</td>\n",
       "      <td>1.214804e+06</td>\n",
       "    </tr>\n",
       "    <tr>\n",
       "      <th>std</th>\n",
       "      <td>3.687538e+03</td>\n",
       "      <td>3.708292e+03</td>\n",
       "      <td>3.664315e+03</td>\n",
       "      <td>3.686962e+03</td>\n",
       "      <td>5.031187e+06</td>\n",
       "    </tr>\n",
       "    <tr>\n",
       "      <th>min</th>\n",
       "      <td>0.000000e+00</td>\n",
       "      <td>0.000000e+00</td>\n",
       "      <td>0.000000e+00</td>\n",
       "      <td>0.000000e+00</td>\n",
       "      <td>0.000000e+00</td>\n",
       "    </tr>\n",
       "    <tr>\n",
       "      <th>25%</th>\n",
       "      <td>1.300000e+01</td>\n",
       "      <td>1.314000e+01</td>\n",
       "      <td>1.287000e+01</td>\n",
       "      <td>1.300000e+01</td>\n",
       "      <td>3.430000e+04</td>\n",
       "    </tr>\n",
       "    <tr>\n",
       "      <th>50%</th>\n",
       "      <td>2.236000e+01</td>\n",
       "      <td>2.261000e+01</td>\n",
       "      <td>2.210000e+01</td>\n",
       "      <td>2.236000e+01</td>\n",
       "      <td>1.938000e+05</td>\n",
       "    </tr>\n",
       "    <tr>\n",
       "      <th>75%</th>\n",
       "      <td>3.690000e+01</td>\n",
       "      <td>3.732000e+01</td>\n",
       "      <td>3.645000e+01</td>\n",
       "      <td>3.690000e+01</td>\n",
       "      <td>8.572000e+05</td>\n",
       "    </tr>\n",
       "    <tr>\n",
       "      <th>max</th>\n",
       "      <td>3.411500e+05</td>\n",
       "      <td>3.422610e+05</td>\n",
       "      <td>3.400650e+05</td>\n",
       "      <td>3.422610e+05</td>\n",
       "      <td>1.226792e+09</td>\n",
       "    </tr>\n",
       "  </tbody>\n",
       "</table>\n",
       "</div>"
      ],
      "text/plain": [
       "               Open          High           Low         Close        Volume\n",
       "count  1.051003e+07  1.051003e+07  1.051003e+07  1.051003e+07  1.051003e+07\n",
       "mean   1.089335e+02  1.097427e+02  1.080638e+02  1.089325e+02  1.214804e+06\n",
       "std    3.687538e+03  3.708292e+03  3.664315e+03  3.686962e+03  5.031187e+06\n",
       "min    0.000000e+00  0.000000e+00  0.000000e+00  0.000000e+00  0.000000e+00\n",
       "25%    1.300000e+01  1.314000e+01  1.287000e+01  1.300000e+01  3.430000e+04\n",
       "50%    2.236000e+01  2.261000e+01  2.210000e+01  2.236000e+01  1.938000e+05\n",
       "75%    3.690000e+01  3.732000e+01  3.645000e+01  3.690000e+01  8.572000e+05\n",
       "max    3.411500e+05  3.422610e+05  3.400650e+05  3.422610e+05  1.226792e+09"
      ]
     },
     "execution_count": 4,
     "metadata": {},
     "output_type": "execute_result"
    }
   ],
   "source": [
    "import pandas as pd\n",
    "\n",
    "df = pd.read_hdf('/home/marek/Development/data-science/scipy-demo/data/nyse_daily.h5', key='nyse_daily')\n",
    "df.describe()"
   ]
  }
 ],
 "metadata": {
  "kernelspec": {
   "display_name": "Python 3",
   "language": "python",
   "name": "python3"
  },
  "language_info": {
   "codemirror_mode": {
    "name": "ipython",
    "version": 3
   },
   "file_extension": ".py",
   "mimetype": "text/x-python",
   "name": "python",
   "nbconvert_exporter": "python",
   "pygments_lexer": "ipython3",
   "version": "3.7.3"
  },
  "pycharm": {
   "stem_cell": {
    "cell_type": "raw",
    "metadata": {
     "collapsed": false
    },
    "source": []
   }
  }
 },
 "nbformat": 4,
 "nbformat_minor": 1
}
