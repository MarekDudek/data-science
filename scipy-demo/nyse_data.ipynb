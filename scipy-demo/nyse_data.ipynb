{
 "cells": [
  {
   "cell_type": "markdown",
   "source": [
    "Reading NYSE data"
   ],
   "metadata": {
    "collapsed": false,
    "pycharm": {
     "name": "#%% md\n"
    }
   }
  },
  {
   "cell_type": "code",
   "execution_count": 48,
   "metadata": {
    "collapsed": true,
    "pycharm": {
     "is_executing": false
    }
   },
   "outputs": [],
   "source": [
    "from zipfile import ZipFile\n",
    "\n",
    "import pandas as pd"
   ]
  },
  {
   "cell_type": "code",
   "execution_count": 49,
   "outputs": [],
   "source": [
    "path = '/home/marek/Development/trading/nyse-daily-data/src/main/resources/nyse_daily/NYSE_1999.zip'\n",
    "zip_file = ZipFile(path)\n",
    "\n",
    "dfs = []\n",
    "for zip_info in zip_file.infolist():\n",
    "    file_like = zip_file.open(zip_info.filename)\n",
    "    df = pd.read_csv(file_like)\n",
    "    dfs.append(df)\n",
    "    \n",
    "#print(dfs)"
   ],
   "metadata": {
    "collapsed": false,
    "pycharm": {
     "name": "#%%\n",
     "is_executing": false
    }
   }
  },
  {
   "cell_type": "code",
   "execution_count": 50,
   "outputs": [],
   "source": [
    "from nyse_daily.reading import *\n",
    "\n",
    "\n",
    "path = '/home/marek/Development/trading/nyse-daily-data/src/main/resources/nyse_daily/NYSE_1999.zip'\n",
    "dfs = read_zip_with_csv(path)\n",
    "#print(dfs)\n",
    "    \n",
    "df = pd.concat(dfs)"
   ],
   "metadata": {
    "collapsed": false,
    "pycharm": {
     "name": "#%%\n",
     "is_executing": false
    }
   }
  },
  {
   "cell_type": "code",
   "execution_count": 12,
   "outputs": [],
   "source": [
    "dtypes = df.dtypes\n",
    "#print(df.dtypes)\n",
    "#df.index\n",
    "\n",
    "#df.describe()"
   ],
   "metadata": {
    "collapsed": false,
    "pycharm": {
     "name": "#%%\n",
     "is_executing": false
    }
   }
  },
  {
   "cell_type": "code",
   "execution_count": 14,
   "outputs": [
    {
     "name": "stdout",
     "text": [
      "73570238\n"
     ],
     "output_type": "stream"
    }
   ],
   "source": [
    "import pandas as pd\n",
    "import glob\n",
    "from zipfile import ZipFile\n",
    "from itertools import chain\n",
    "\n",
    "pattern = '/home/marek/Development/trading/nyse-daily-data/src/main/resources/nyse_daily/*'\n",
    "\n",
    "def zip_info_with_file(zip_file) :\n",
    "    return map(lambda zip_info: (zip_file, zip_info), zip_file.infolist())\n",
    "    \n",
    "def read_zips_with_csv(pattern):\n",
    "    paths = [path for path in glob.glob(pattern)]\n",
    "    zip_files = [ZipFile(path) for path in paths]\n",
    "    zfis = [zip_info_with_file(zip_file) for zip_file in zip_files]\n",
    "    zfis = chain.from_iterable(zfis)\n",
    "    dfs = [pd.read_csv(zf.open(zi.filename)) for (zf, zi) in zfis]\n",
    "    return pd.concat(dfs)\n",
    "\n",
    "df = read_zips_with_csv(pattern)\n",
    "df.describe()\n",
    "df.columns\n",
    "print(df.size)"
   ],
   "metadata": {
    "collapsed": false,
    "pycharm": {
     "name": "#%%\n",
     "is_executing": false
    }
   }
  }
 ],
 "metadata": {
  "kernelspec": {
   "display_name": "Python 3",
   "language": "python",
   "name": "python3"
  },
  "language_info": {
   "codemirror_mode": {
    "name": "ipython",
    "version": 2
   },
   "file_extension": ".py",
   "mimetype": "text/x-python",
   "name": "python",
   "nbconvert_exporter": "python",
   "pygments_lexer": "ipython2",
   "version": "2.7.6"
  },
  "pycharm": {
   "stem_cell": {
    "cell_type": "raw",
    "source": [],
    "metadata": {
     "collapsed": false
    }
   }
  }
 },
 "nbformat": 4,
 "nbformat_minor": 0
}